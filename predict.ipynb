{
 "cells": [
  {
   "cell_type": "code",
   "execution_count": 1,
   "metadata": {},
   "outputs": [
    {
     "name": "stderr",
     "output_type": "stream",
     "text": [
      "/Users/necronia/anaconda3/lib/python3.7/site-packages/lightgbm/__init__.py:46: UserWarning: Starting from version 2.2.1, the library file in distribution wheels for macOS is built by the Apple Clang (Xcode_9.4.1) compiler.\n",
      "This means that in case of installing LightGBM from PyPI via the ``pip install lightgbm`` command, you don't need to install the gcc compiler anymore.\n",
      "Instead of that, you need to install the OpenMP library, which is required for running LightGBM on the system with the Apple Clang compiler.\n",
      "You can install the OpenMP library by the following command: ``brew install libomp``.\n",
      "  \"You can install the OpenMP library by the following command: ``brew install libomp``.\", UserWarning)\n"
     ]
    }
   ],
   "source": [
    "import sys\n",
    "sys.path.append('../')\n",
    "\n",
    "import pandas as pd\n",
    "import numpy as np\n",
    "from mlxtend.regressor import StackingRegressor\n",
    "from sklearn.ensemble import RandomForestRegressor\n",
    "from sklearn.linear_model import Lasso, Ridge, ElasticNet\n",
    "from sklearn.svm import SVR\n",
    "import xgboost as xgb\n",
    "import lightgbm as lgb\n",
    "\n",
    "from modules.featureEng import *\n",
    "from modules.modelEng import *\n",
    "\n",
    "# to display entire data\n",
    "pd.set_option('display.max_rows', 1500)\n",
    "pd.set_option('display.max_columns', 150)"
   ]
  },
  {
   "cell_type": "code",
   "execution_count": 2,
   "metadata": {},
   "outputs": [],
   "source": [
    "\"\"\"\n",
    "Load Data\n",
    "\"\"\"\n",
    "\n",
    "train_df = pd.read_csv('data/train.csv')\n",
    "test_df = pd.read_csv('data/test.csv')"
   ]
  },
  {
   "cell_type": "code",
   "execution_count": 3,
   "metadata": {
    "scrolled": false
   },
   "outputs": [],
   "source": [
    "\"\"\"\n",
    "Feature Engineering\n",
    "\"\"\"\n",
    "\n",
    "train_X = train_df.loc[:,train_df.columns!='SalePrice']\n",
    "train_Y = train_df['SalePrice']\n",
    "test_X = test_df.copy()\n",
    "\n",
    "### for testing ###\n",
    "from sklearn.model_selection import train_test_split\n",
    "train_X, test_X, train_Y, test_Y = train_test_split(train_X, train_Y, random_state=34657)\n",
    "###################\n",
    "\n",
    "train_X, train_Y, test_X = pre_processing(train_X, train_Y, test_X)"
   ]
  },
  {
   "cell_type": "code",
   "execution_count": null,
   "metadata": {
    "scrolled": false
   },
   "outputs": [
    {
     "name": "stdout",
     "output_type": "stream",
     "text": [
      "Fitting 5 folds for each of 1 candidates, totalling 5 fits\n"
     ]
    },
    {
     "name": "stderr",
     "output_type": "stream",
     "text": [
      "[Parallel(n_jobs=-1)]: Using backend LokyBackend with 16 concurrent workers.\n",
      "[Parallel(n_jobs=-1)]: Done   5 out of   5 | elapsed:  1.1min finished\n",
      "/Users/necronia/anaconda3/lib/python3.7/site-packages/xgboost/core.py:587: FutureWarning: Series.base is deprecated and will be removed in a future version\n",
      "  if getattr(data, 'base', None) is not None and \\\n"
     ]
    }
   ],
   "source": [
    "\"\"\"\n",
    "Predict house price\n",
    "\"\"\"\n",
    "\n",
    "#elastic_net = grid_search(train_X, train_Y, ElasticNet())\n",
    "#lasso = grid_search(train_X, train_Y, Lasso())\n",
    "#ridge = grid_search(train_X, train_Y, Ridge())\n",
    "#random_forest = grid_search(train_X, train_Y, RandomForestRegressor())\n",
    "#support_vector_regressor = grid_search(train_X, train_Y, SVR())\n",
    "XGBoost = grid_search(train_X, train_Y, xgb.XGBRegressor())\n",
    "light_GBM = grid_search(train_X, train_Y, lgb.LGBMRegressor())\n",
    "\n",
    "stacked_regression = StackingRegressor(\n",
    "        #regressors=[elastic_net, lasso, ridge, random_forest, XGBoost, light_GBM],\n",
    "        regressors=[XGBoost, light_GBM],\n",
    "        meta_regressor=XGBoost\n",
    ")\n",
    "\n",
    "stacked_regression.fit(train_X, train_Y)\n",
    "\n",
    "stacked = stacked_regression.predict(test_X)\n",
    "\n",
    "ensembled = np.expm1(#(0.1 * elastic_net.predict(test_X)) +\n",
    "                     #(0.1 * lasso.predict(test_X)) +\n",
    "                     #(0.1 * ridge.predict(test_X)) +\n",
    "                     #(0.05 * random_forest.predict(test_X)) +\n",
    "                     #(1 * support_vector_regressor.predict(test_X))) +\n",
    "                     #(0.3 * XGBoost.predict(test_X)) +\n",
    "                     #(0.2 * light_GBM.predict(test_X)) +\n",
    "                     (1 * stacked))\n",
    "                     \n",
    "\n",
    "ensembled \n",
    "# 0.1197"
   ]
  },
  {
   "cell_type": "code",
   "execution_count": null,
   "metadata": {},
   "outputs": [],
   "source": [
    "### for testing ###\n",
    "RMSE = np.mean((ensembled - test_Y)**2)**(1/2) \n",
    "print('Score : ' + str(RMSE))\n",
    "###################\n",
    "\n",
    "\"\"\"\n",
    "Export submission data\n",
    "\"\"\"\n",
    "submission = pd.DataFrame({\n",
    "    'Id':test_X.index,\n",
    "    'SalePrice':ensembled\n",
    "})\n",
    "submission.to_csv('data/submission.csv', index=False)"
   ]
  },
  {
   "cell_type": "code",
   "execution_count": null,
   "metadata": {},
   "outputs": [],
   "source": [
    "#train_X.hist(bins=50, figsize=(15,10))"
   ]
  },
  {
   "cell_type": "code",
   "execution_count": null,
   "metadata": {},
   "outputs": [],
   "source": [
    "train_X"
   ]
  },
  {
   "cell_type": "code",
   "execution_count": null,
   "metadata": {},
   "outputs": [],
   "source": []
  }
 ],
 "metadata": {
  "kernelspec": {
   "display_name": "Python 3",
   "language": "python",
   "name": "python3"
  },
  "language_info": {
   "codemirror_mode": {
    "name": "ipython",
    "version": 3
   },
   "file_extension": ".py",
   "mimetype": "text/x-python",
   "name": "python",
   "nbconvert_exporter": "python",
   "pygments_lexer": "ipython3",
   "version": "3.7.3"
  }
 },
 "nbformat": 4,
 "nbformat_minor": 2
}
