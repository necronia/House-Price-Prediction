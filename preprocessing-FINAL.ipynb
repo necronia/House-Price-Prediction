{
 "cells": [
  {
   "cell_type": "code",
   "execution_count": 1,
   "metadata": {},
   "outputs": [],
   "source": [
    "import pandas as pd\n",
    "import numpy as np\n",
    "\n",
    "train = pd.read_csv('./data/train.csv', index_col = 'Id')\n",
    "test = pd.read_csv('./data/test.csv', index_col = 'Id', keep_default_na=False)"
   ]
  },
  {
   "cell_type": "code",
   "execution_count": 2,
   "metadata": {},
   "outputs": [],
   "source": [
    "df_train1 = train.copy()\n",
    "df_train2 = train.copy()\n",
    "df_test = test.copy()"
   ]
  },
  {
   "cell_type": "markdown",
   "metadata": {},
   "source": [
    "# Training Dataset Preprocessing"
   ]
  },
  {
   "cell_type": "code",
   "execution_count": 3,
   "metadata": {},
   "outputs": [],
   "source": [
    "# Hyelee\n",
    "## Alley : convert NaN => NA\n",
    "df_train1['Alley'].fillna('NA',inplace=True)\n",
    "## LotFrontage : convert NaN => ???? \n",
    "# <CASE1> Using LotArea \n",
    "df_train1['LotFrontage'].fillna(df_train1['LotArea'] *0.007206024910841549,inplace=True)\n",
    "\n",
    "# Alyssa\n",
    "# fill in for masonry stuff with None and 0\n",
    "df_train1['MasVnrType'].fillna('None',inplace=True)\n",
    "df_train1['MasVnrArea'].fillna(0,inplace=True)\n",
    "df_train1.loc[949,'BsmtExposure'] = 'No' # impute the ID949's BsmtExposure with the mode of 'BsmtExposure'\n",
    "\n",
    "# Kisoo\n",
    "df_train1.FireplaceQu.fillna('NA',inplace=True) # without Fireplace, there is no FireplaceQu.\n",
    "df_train1.Electrical.fillna('SBrkr',inplace=True) # since Utility column, there is electricity obviously, so it filled with most common Electrical type 'SBrkr'\n",
    "\n",
    "# Wonchan\n",
    "# Feature Engineering for Time Series Columns\n",
    "df_train1['GarageYrBltImputed'] = np.where(df_train1['GarageYrBlt'].isnull(), 1, 0)\n",
    "\n",
    "# impute the missing years with the value of the year built plus the mean of the diff of year built and garageyrbuilt\n",
    "aveDiff = np.mean(df_train1['GarageYrBlt']-df_train1['YearBuilt'])\n",
    "df_train1['GarageYrBlt'].fillna(df_train1['GarageYrBlt'] + aveDiff,inplace=True)\n",
    "\n",
    "# fill rest with NA string\n",
    "df_train1 = df_train1.fillna('NA')\n",
    "\n",
    "df_train1.to_csv('./data/processed_training1.csv')"
   ]
  },
  {
   "cell_type": "code",
   "execution_count": 4,
   "metadata": {},
   "outputs": [],
   "source": [
    "# Hyelee\n",
    "## Alley : convert NaN => NA\n",
    "df_train2['Alley'].fillna('NA',inplace=True)\n",
    "## LotFrontage : convert NaN => ???? \n",
    "# <CASE2> Using Neighborhood \n",
    "df_tmp = df_train2[~df_train2.LotFrontage.isnull()]\n",
    "df_md_lotfrontage = df_tmp.groupby('Neighborhood').agg('median')[{'LotFrontage'}]\n",
    "df_md_lotfrontage = df_md_lotfrontage.rename(columns={\"LotFrontage\" : \"mdLotFrontage\"})\n",
    "df_tmp = df_tmp.merge(df_md_lotfrontage, how=\"inner\", on='Neighborhood')\n",
    "df_train2= pd.concat([df_train2.reset_index().set_index('Neighborhood'),df_md_lotfrontage], axis=1, join='inner').reset_index().set_index('Id')\n",
    "df_train2['LotFrontage'].fillna(df_train2['mdLotFrontage'],inplace=True)\n",
    "df_train2= df_train2.drop(columns=['mdLotFrontage'])\n",
    "\n",
    "# Alyssa\n",
    "# fill in for masonry stuff with None and 0\n",
    "df_train2['MasVnrType'].fillna('None',inplace=True)\n",
    "df_train2['MasVnrArea'].fillna(0,inplace=True)\n",
    "df_train2.loc[949,'BsmtExposure'] = 'No' # impute the ID949's BsmtExposure with the mode of 'BsmtExposure'\n",
    "\n",
    "# Kisoo\n",
    "df_train2.FireplaceQu.fillna('NA',inplace=True) # without Fireplace, there is no FireplaceQu.\n",
    "df_train2.Electrical.fillna('SBrkr',inplace=True) # since Utility column, there is electricity obviously, so it filled with most common Electrical type 'SBrkr'\n",
    "\n",
    "# Wonchan\n",
    "# Feature Engineering for Time Series Columns\n",
    "df_train2['GarageYrBltImputed'] = np.where(df_train2['GarageYrBlt'].isnull(), 1, 0)\n",
    "\n",
    "# impute the missing years with the value of the year built plus the mean of the diff of year built and garageyrbuilt\n",
    "aveDiff = np.mean(df_train2['GarageYrBlt']-df_train2['YearBuilt'])\n",
    "df_train2['GarageYrBlt'].fillna(df_train2['GarageYrBlt'] + aveDiff,inplace=True)\n",
    "\n",
    "# fill rest with NA string\n",
    "df_train2 = df_train2.fillna('NA')\n",
    "\n",
    "df_train2.to_csv('./data/processed_training2.csv')"
   ]
  },
  {
   "cell_type": "markdown",
   "metadata": {},
   "source": [
    "# Test Dataset Add Feature"
   ]
  },
  {
   "cell_type": "code",
   "execution_count": 5,
   "metadata": {},
   "outputs": [],
   "source": [
    "# Feature Engineering for Time Series Columns\n",
    "df_test['GarageYrBltImputed'] = np.where(df_test['GarageYrBlt'].isnull(), 1, 0)\n",
    "df_test.to_csv('./data/processed_test.csv')"
   ]
  },
  {
   "cell_type": "code",
   "execution_count": null,
   "metadata": {},
   "outputs": [],
   "source": []
  }
 ],
 "metadata": {
  "kernelspec": {
   "display_name": "Python 3",
   "language": "python",
   "name": "python3"
  },
  "language_info": {
   "codemirror_mode": {
    "name": "ipython",
    "version": 3
   },
   "file_extension": ".py",
   "mimetype": "text/x-python",
   "name": "python",
   "nbconvert_exporter": "python",
   "pygments_lexer": "ipython3",
   "version": "3.7.3"
  }
 },
 "nbformat": 4,
 "nbformat_minor": 2
}
